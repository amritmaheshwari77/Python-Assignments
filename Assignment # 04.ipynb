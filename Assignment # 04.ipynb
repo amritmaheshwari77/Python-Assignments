{
 "cells": [
  {
   "cell_type": "markdown",
   "metadata": {},
   "source": [
    "# 1"
   ]
  },
  {
   "cell_type": "code",
   "execution_count": 10,
   "metadata": {},
   "outputs": [
    {
     "name": "stdout",
     "output_type": "stream",
     "text": [
      "f_name = Muhammad\n",
      "l_name = Aaqib\n",
      "age = 21\n",
      "city = karachi\n",
      "------------------\n",
      "f_name = Muhammad\n",
      "l_name = Aaqib\n",
      "age = 21\n",
      "city = karachi\n",
      "qualification = Inter\n",
      "------------------\n",
      "f_name = Muhammad\n",
      "l_name = Aaqib\n",
      "age = 21\n",
      "city = karachi\n",
      "qualification = High Academic Level\n",
      "------------------\n",
      "f_name = Muhammad\n",
      "l_name = Aaqib\n",
      "age = 21\n",
      "city = karachi\n"
     ]
    }
   ],
   "source": [
    "a = {\n",
    "    \"f_name\" :\"Muhammad\",\n",
    "    \"l_name\" :\"Aaqib\",\n",
    "    \"age\" : 21,\n",
    "    \"city\" : \"karachi\"\n",
    "    }\n",
    "\n",
    "for key, value in a.items():\n",
    "    print(key + \" = \"+str(value))\n",
    "    \n",
    "print(\"------------------\")\n",
    "    \n",
    "# Adding\n",
    "a[\"qualification\"]=\"Inter\"\n",
    "for key, value in a.items():\n",
    "    print(key + \" = \"+str(value))\n",
    "    \n",
    "print(\"------------------\")\n",
    "    \n",
    "# Updating\n",
    "a[\"qualification\"]=\"High Academic Level\"\n",
    "for key, value in a.items():\n",
    "    print(key + \" = \"+str(value))\n",
    "    \n",
    "print(\"------------------\")\n",
    "\n",
    "# Deleting\n",
    "del a[\"qualification\"]\n",
    "for key, value in a.items():\n",
    "    print(key + \" = \"+str(value))"
   ]
  },
  {
   "cell_type": "markdown",
   "metadata": {},
   "source": [
    "# 2"
   ]
  },
  {
   "cell_type": "code",
   "execution_count": 11,
   "metadata": {
    "scrolled": true
   },
   "outputs": [
    {
     "name": "stdout",
     "output_type": "stream",
     "text": [
      "khi   {'country': 'Pakistan', 'population': 15741000, 'fact': 'The city of lights'}\n",
      "lah   {'country': 'Pakistan', 'population': 12188000, 'fact': 'Famous for food'}\n",
      "Isl   {'country': 'Pakistan', ' population': 1095064, 'fact': 'Capital of Pakistan'}\n"
     ]
    }
   ],
   "source": [
    "cities ={\n",
    "    \"khi\":{\n",
    "        \"country\" : \"Pakistan\",\n",
    "        \"population\" : 15741000,\n",
    "        \"fact\" : \"The city of lights\"\n",
    "    },\n",
    "    \"lah\":{\n",
    "        \"country\" : \"Pakistan\", \n",
    "        \"population\" : 12188000,\n",
    "        \"fact\" : \"Famous for food\"\n",
    "        \n",
    "    },\n",
    "    \"Isl\":\n",
    "    {\n",
    "        \"country\" : \"Pakistan\",\n",
    "       \" population\" : 1095064 , \n",
    "        \"fact\" : \"Capital of Pakistan\"\n",
    "    }}\n",
    "\n",
    "for key, value in cities.items():\n",
    "    print(key,\" \",value )"
   ]
  },
  {
   "cell_type": "markdown",
   "metadata": {},
   "source": [
    "# 3"
   ]
  },
  {
   "cell_type": "code",
   "execution_count": 12,
   "metadata": {},
   "outputs": [
    {
     "name": "stdout",
     "output_type": "stream",
     "text": [
      "Enter your age: 21\n",
      "Ticket is 15$\n"
     ]
    }
   ],
   "source": [
    "for i in range(1):\n",
    "    age = int(input(\"Enter your age: \"))\n",
    "    if age<=3:\n",
    "        print(\"Ticket is free\")\n",
    "    elif age>3 and age <= 12:\n",
    "        ticket = 10\n",
    "        print(\"Ticket is \"+str(ticket)+ \"$\")\n",
    "    elif age>12:\n",
    "        ticket = 15\n",
    "        print(\"Ticket is \"+str(ticket)+ \"$\")\n",
    "    else:\n",
    "        break"
   ]
  },
  {
   "cell_type": "markdown",
   "metadata": {},
   "source": [
    "# 4"
   ]
  },
  {
   "cell_type": "code",
   "execution_count": 13,
   "metadata": {},
   "outputs": [
    {
     "name": "stdout",
     "output_type": "stream",
     "text": [
      "One of my favourite books is Alice in Wonderland\n"
     ]
    }
   ],
   "source": [
    "def favourite_book(title):\n",
    "    print(\"One of my favourite books is \"+title)\n",
    "title=\"Alice in Wonderland\"\n",
    "favourite_book(title)"
   ]
  },
  {
   "cell_type": "markdown",
   "metadata": {},
   "source": [
    "# 5"
   ]
  },
  {
   "cell_type": "code",
   "execution_count": 15,
   "metadata": {},
   "outputs": [
    {
     "name": "stdout",
     "output_type": "stream",
     "text": [
      "\t***GUESS THE NUMBER GAME***\n",
      "\n",
      "Enter a num between 1-30 to check your guess:\n",
      "5\n",
      "Less than hidden number!\n",
      "Enter a num between 1-30 to check your guess:\n",
      "7\n",
      "Less than hidden number!\n",
      "Enter a num between 1-30 to check your guess:\n",
      "8\n",
      "Less than hidden number!\n",
      "\n",
      "\t\t||GAME OVER||\n"
     ]
    }
   ],
   "source": [
    "import random\n",
    "r_num=random.randint(1,30)\n",
    "print(\"\\t***GUESS THE NUMBER GAME***\\n\")\n",
    "for i in range (3):\n",
    "    print(\"Enter a num between 1-30 to check your guess:\")\n",
    "    e_num=int(input(\"\"))\n",
    "    if e_num == r_num:\n",
    "        print(\"Perfect guess\")\n",
    "    elif e_num >= r_num:\n",
    "        print(\"Greater than hidden number!\")\n",
    "    elif e_num <= r_num:\n",
    "        print(\"Less than hidden number!\")\n",
    "    else:\n",
    "        print(\"try again\")\n",
    "print(\"\\n\\t\\t||GAME OVER||\")"
   ]
  },
  {
   "cell_type": "code",
   "execution_count": null,
   "metadata": {
    "collapsed": true
   },
   "outputs": [],
   "source": []
  }
 ],
 "metadata": {
  "kernelspec": {
   "display_name": "Python 3",
   "language": "python",
   "name": "python3"
  },
  "language_info": {
   "codemirror_mode": {
    "name": "ipython",
    "version": 3
   },
   "file_extension": ".py",
   "mimetype": "text/x-python",
   "name": "python",
   "nbconvert_exporter": "python",
   "pygments_lexer": "ipython3",
   "version": "3.7.4"
  }
 },
 "nbformat": 4,
 "nbformat_minor": 2
}
