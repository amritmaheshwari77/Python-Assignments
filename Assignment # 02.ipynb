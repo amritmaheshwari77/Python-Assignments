{
 "cells": [
  {
   "cell_type": "markdown",
   "metadata": {},
   "source": [
    "\n",
    "# 1. MARKSHEET"
   ]
  },
  {
   "cell_type": "code",
   "execution_count": 72,
   "metadata": {},
   "outputs": [
    {
     "name": "stdout",
     "output_type": "stream",
     "text": [
      "Enter your marks in subjects below\n",
      "Operating System: 55\n",
      "Software Engineering: 55\n",
      "Computer Vision: 55\n",
      "Data Mining: 55\n",
      "Information System: 55\n",
      "Total Marks: 275\n",
      "Your Percentage is: 55.00000000000001\n"
     ]
    }
   ],
   "source": [
    "print(\"Enter your marks in subjects below\")\n",
    "os=int(input(\"Operating System: \"))\n",
    "se=int(input(\"Software Engineering: \"))\n",
    "cv=int(input(\"Computer Vision: \"))\n",
    "dm=int(input(\"Data Mining: \"))\n",
    "ins=int(input(\"Information System: \"))\n",
    "\n",
    "total=os+se+cv+dm+ins\n",
    "print(\"Total Marks:\",total)\n",
    "\n",
    "per=(total/500)*100\n",
    "print(\"Your Percentage is:\",per)"
   ]
  },
  {
   "cell_type": "markdown",
   "metadata": {},
   "source": [
    "# 2. EVEN / ODD"
   ]
  },
  {
   "cell_type": "code",
   "execution_count": 73,
   "metadata": {},
   "outputs": [
    {
     "name": "stdout",
     "output_type": "stream",
     "text": [
      "Enter any number: 6\n",
      "Number is Even\n"
     ]
    }
   ],
   "source": [
    "num=int(input(\"Enter any number: \"))\n",
    "if num%2==0:\n",
    "    print(\"Number is Even\")\n",
    "else:\n",
    "    print(\"Number is Odd\")"
   ]
  },
  {
   "cell_type": "markdown",
   "metadata": {},
   "source": [
    "# 3. LENGTH OF LIST"
   ]
  },
  {
   "cell_type": "code",
   "execution_count": 74,
   "metadata": {},
   "outputs": [
    {
     "name": "stdout",
     "output_type": "stream",
     "text": [
      "Length of List is: 7\n"
     ]
    }
   ],
   "source": [
    "lst_1=[\"Ali\",\"Yousuf\",\"Sameer\",\"Adnan\",\"Noman\",\"Abdullah\",\"Ayaz\"]\n",
    "print(\"Length of List is:\",len(lst_1))"
   ]
  },
  {
   "cell_type": "markdown",
   "metadata": {},
   "source": [
    "# 4. SUM OF ELEMENTS IN LIST"
   ]
  },
  {
   "cell_type": "code",
   "execution_count": 75,
   "metadata": {},
   "outputs": [
    {
     "name": "stdout",
     "output_type": "stream",
     "text": [
      "Sum of list is: 433\n"
     ]
    }
   ],
   "source": [
    "lst_2=[70,50,44,78,90,34,55,12]\n",
    "print(\"Sum of list is:\",sum(lst_2))"
   ]
  },
  {
   "cell_type": "markdown",
   "metadata": {},
   "source": [
    "# 5. LARGEST ELEMENT IN LIST"
   ]
  },
  {
   "cell_type": "code",
   "execution_count": 76,
   "metadata": {},
   "outputs": [
    {
     "name": "stdout",
     "output_type": "stream",
     "text": [
      "Largest number in the list is: 80\n"
     ]
    }
   ],
   "source": [
    "lst_3=[45,5,54,11,66,76,80,27]\n",
    "print(\"Largest number in the list is:\",(max(lst_3)))"
   ]
  },
  {
   "cell_type": "markdown",
   "metadata": {},
   "source": [
    "# 6. ELEMENTS LESS THAN 5"
   ]
  },
  {
   "cell_type": "code",
   "execution_count": 77,
   "metadata": {},
   "outputs": [
    {
     "name": "stdout",
     "output_type": "stream",
     "text": [
      "[1, 1, 2, 3]\n"
     ]
    }
   ],
   "source": [
    "a=[1,1,2,3,5,8,13,21,34,55,89]\n",
    "new_lst=[]\n",
    "for item in a:\n",
    "    if item<5:\n",
    "        new_lst.append(item)\n",
    "print(new_lst)"
   ]
  },
  {
   "cell_type": "code",
   "execution_count": null,
   "metadata": {},
   "outputs": [],
   "source": []
  }
 ],
 "metadata": {
  "kernelspec": {
   "display_name": "Python 3",
   "language": "python",
   "name": "python3"
  },
  "language_info": {
   "codemirror_mode": {
    "name": "ipython",
    "version": 3
   },
   "file_extension": ".py",
   "mimetype": "text/x-python",
   "name": "python",
   "nbconvert_exporter": "python",
   "pygments_lexer": "ipython3",
   "version": "3.7.4"
  }
 },
 "nbformat": 4,
 "nbformat_minor": 2
}
