{
 "cells": [
  {
   "cell_type": "markdown",
   "metadata": {},
   "source": [
    "# Answer No # 01: Object Oriented Programming Language"
   ]
  },
  {
   "cell_type": "markdown",
   "metadata": {},
   "source": [
    "# DEFINITION:\n",
    "Object oriented programming (OOP) is a programming language model in which programs are organized around data, or objects, rather than functions and logic. An object can be defined as a data field that has unique attributes and behavior.\n",
    "Such as Human is an object and his name, age etc are his attributes.\n",
    "\n",
    "# PRINCIPLES:\n",
    "OOP is based of Following 4 principles:\n",
    "1. Encapsulation\n",
    "2. Abstraction\n",
    "3. Inheritance\n",
    "4. Polymorphism"
   ]
  },
  {
   "cell_type": "markdown",
   "metadata": {},
   "source": [
    "# Answer No # 02: Benefits of OOP"
   ]
  },
  {
   "cell_type": "markdown",
   "metadata": {},
   "source": [
    "# 1\n",
    "It provides a clear modular structure for programs which makes it good for defining abstract datatypes in which implementation details are hidden\n",
    "# 2\n",
    "Objects can also be reused within an across applications. The reuse of software also lowers the cost of development. More effort is put into the object-oriented analysis and design, which lowers the overall cost of development\n",
    "# 3\n",
    "It makes software easier to maintain. Since the design is modular, part of the system can be updated in case of issues without a need to make large-scale changes\n",
    "# 4\n",
    "Reuse also enables faster development. Object-oriented programming languages come with rich libraries of objects, and code developed during projects is also reusable in future projects\n",
    "# 5\n",
    "It provides a good framework for code libraries where the supplied software components can be easily adapted and modified by the programmer. This is particularly useful for developing graphical user interfaces"
   ]
  },
  {
   "cell_type": "markdown",
   "metadata": {},
   "source": [
    "# Answer No # 03: Difference between Function and Method"
   ]
  },
  {
   "cell_type": "markdown",
   "metadata": {},
   "source": [
    "# METHOD:\n",
    "Method and a function are the same, with different terms. A method is a procedure or function in object-oriented programming.\n",
    "\n",
    "# Basic Method Example  \n",
    "class class_name \n",
    "    def method_name () : \n",
    "        ...... \n",
    "        # method body \n",
    "        ......  \n",
    "\n",
    "# FUNCTION:\n",
    "A function is a group of reusable code which can be called anywhere in your program. This eliminates the need for writing the same code again and again. It helps programmers in writing modular codes.\n",
    "\n",
    "# Basic Function Example\n",
    "def function_name ( arg1, arg2, ...) : \n",
    "    ...... \n",
    "    # function body \n",
    "    ......   "
   ]
  },
  {
   "cell_type": "markdown",
   "metadata": {},
   "source": [
    "# Answer No # 04: Class, Object, Attribute, Behavior"
   ]
  },
  {
   "cell_type": "markdown",
   "metadata": {},
   "source": [
    "# Class\n",
    "A Class is a description of a group of objects with common properties (attributes), behavior (operations), relationships, and semantics\n",
    "A class is an abstraction. An object is an instance of a class.\n",
    "\n",
    "# Object\n",
    "An Object represents an entity either physical (box), conceptual (chemical process), or software (list).\n",
    "An Object is a concept, an abstraction, a thing with sharp boundaries and meaning for an application.\n",
    "\n",
    "# Attribute\n",
    "An Attribute is a named property of a class. It has a type. It describes the range of values that that property may hold.\n",
    "\n",
    "# Behavior\n",
    "Behavior determines how the object acts or reacts to requests (messages) from other objects."
   ]
  },
  {
   "cell_type": "markdown",
   "metadata": {},
   "source": [
    "# Answer No # 05: Program"
   ]
  },
  {
   "cell_type": "code",
   "execution_count": 18,
   "metadata": {},
   "outputs": [
    {
     "name": "stdout",
     "output_type": "stream",
     "text": [
      "Details about Jaguar\n",
      "Model: XE\n",
      "Year: 2019\n",
      "Color: Red\n",
      "Speed: 230km/h\n",
      "Price: 37990\n"
     ]
    }
   ],
   "source": [
    "class Car:\n",
    "    def __init__(self, model, year, color, speed, price):\n",
    "        self.model = model\n",
    "        self.year = year\n",
    "        self.color = color\n",
    "        self.speed = speed\n",
    "        self.price = price\n",
    "        \n",
    "jaguar = Car('XE', '2019', 'Red', '230km/h', 37990)\n",
    "audi = Car('A6', '2020', 'Black', '250km/h', 54900)\n",
    "acura = Car('ILX', '2020', 'Grey', '200km/h', 28100)\n",
    "\n",
    "print(\"Details about Jaguar\")\n",
    "print(\"Model:\",jaguar.model)\n",
    "print(\"Year:\",jaguar.year)\n",
    "print(\"Color:\",jaguar.color)\n",
    "print(\"Speed:\",jaguar.speed)\n",
    "print(\"Price:\",jaguar.price)"
   ]
  },
  {
   "cell_type": "code",
   "execution_count": null,
   "metadata": {},
   "outputs": [],
   "source": []
  }
 ],
 "metadata": {
  "kernelspec": {
   "display_name": "Python 3",
   "language": "python",
   "name": "python3"
  },
  "language_info": {
   "codemirror_mode": {
    "name": "ipython",
    "version": 3
   },
   "file_extension": ".py",
   "mimetype": "text/x-python",
   "name": "python",
   "nbconvert_exporter": "python",
   "pygments_lexer": "ipython3",
   "version": "3.7.4"
  }
 },
 "nbformat": 4,
 "nbformat_minor": 2
}
