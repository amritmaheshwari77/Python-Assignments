{
 "cells": [
  {
   "cell_type": "markdown",
   "metadata": {},
   "source": [
    "# 1"
   ]
  },
  {
   "cell_type": "code",
   "execution_count": 54,
   "metadata": {},
   "outputs": [
    {
     "name": "stdout",
     "output_type": "stream",
     "text": [
      "1. Addition\n",
      "2. Subtraction\n",
      "3. Multiplication\n",
      "4. Division\n",
      "5. power\n",
      "Please select any operation: 2\n",
      "Enter first number: 23\n",
      "Enter second number: 32\n",
      "Result =  -9\n"
     ]
    }
   ],
   "source": [
    "print(\"1. Addition\")\n",
    "print(\"2. Subtraction\")\n",
    "print(\"3. Multiplication\")\n",
    "print(\"4. Division\")\n",
    "print(\"5. power\")\n",
    "choice = int(input(\"Please select any operation: \"))\n",
    "if (choice>=1 and choice<=5):\n",
    "    num1 = int(input(\"Enter first number: \"))\n",
    "    num2 = int(input(\"Enter second number: \"))\n",
    "    if choice == 1:\n",
    "        result = num1 + num2\n",
    "        print(\"Result = \", result)\n",
    "    elif choice == 2:\n",
    "        result = num1 - num2\n",
    "        print(\"Result = \", result)\n",
    "    elif choice == 3:\n",
    "        result = num1 * num2\n",
    "        print(\"Result = \", result)\n",
    "    elif choice == 4:\n",
    "        result = num1 / num2\n",
    "        print(\"Result = \", result)\n",
    "    elif choice == 5:\n",
    "        result = num1 ** num2\n",
    "        print(\"Result = \", result)\n",
    "else:\n",
    "    print(\"Wrong input..!!\");"
   ]
  },
  {
   "cell_type": "markdown",
   "metadata": {},
   "source": [
    "# 2"
   ]
  },
  {
   "cell_type": "code",
   "execution_count": 43,
   "metadata": {},
   "outputs": [
    {
     "name": "stdout",
     "output_type": "stream",
     "text": [
      "['John', 'Ali', 3, 'Wilson', 5]\n",
      "no\n",
      "no\n",
      "yes\n",
      "no\n",
      "yes\n"
     ]
    }
   ],
   "source": [
    "lst=[\"John\",\"Ali\",3,\"Wilson\",5]\n",
    "print(lst)\n",
    "for i in range (len(lst)):\n",
    "    if type(lst[i])==int:\n",
    "        print (\"yes\")\n",
    "    else:\n",
    "        print(\"no\")"
   ]
  },
  {
   "cell_type": "markdown",
   "metadata": {},
   "source": [
    "# 3"
   ]
  },
  {
   "cell_type": "code",
   "execution_count": 53,
   "metadata": {},
   "outputs": [
    {
     "name": "stdout",
     "output_type": "stream",
     "text": [
      "{'a': 1, 'b': 2}\n",
      "{'a': 1, 'b': 2, 'h': 8}\n"
     ]
    }
   ],
   "source": [
    "d = {'a': 1, 'b': 2}\n",
    "print(d)\n",
    "\n",
    "d['h'] = 8\n",
    "print(d)"
   ]
  },
  {
   "cell_type": "markdown",
   "metadata": {},
   "source": [
    "# 4"
   ]
  },
  {
   "cell_type": "code",
   "execution_count": 18,
   "metadata": {},
   "outputs": [
    {
     "name": "stdout",
     "output_type": "stream",
     "text": [
      "{'A': 79, 'B': 168, 'C': 223}\n",
      "Total sum of values in the dictionary: 470\n"
     ]
    }
   ],
   "source": [
    "dic={'A':79,'B':168,'C':223}\n",
    "print(dic)\n",
    "print(\"Total sum of values in the dictionary:\", (sum(dic.values())))"
   ]
  },
  {
   "cell_type": "markdown",
   "metadata": {},
   "source": [
    "# 5"
   ]
  },
  {
   "cell_type": "code",
   "execution_count": 34,
   "metadata": {},
   "outputs": [
    {
     "name": "stdout",
     "output_type": "stream",
     "text": [
      "[1, 2, 5, 7]\n"
     ]
    }
   ],
   "source": [
    "def lst_dup(seq):\n",
    "    seen = set()\n",
    "    seen_add = seen.add\n",
    "    seen_twice = set( x for x in seq if x in seen or seen_add(x))\n",
    "    return list( seen_twice )\n",
    "a = [1,2,3,2,1,7,5,7,6,5,5,7,5]\n",
    "print(lst_dup(a))"
   ]
  },
  {
   "cell_type": "markdown",
   "metadata": {},
   "source": [
    "# 6"
   ]
  },
  {
   "cell_type": "code",
   "execution_count": 50,
   "metadata": {},
   "outputs": [
    {
     "name": "stdout",
     "output_type": "stream",
     "text": [
      "Enter key 2\n",
      "Already Present,  value =  Dog\n"
     ]
    }
   ],
   "source": [
    "def checkKey(dict, key): \n",
    "    if key in dict.keys(): \n",
    "        print(\"Already Present, \", end =\" \") \n",
    "        print(\"value = \", dict[key]) \n",
    "    else: \n",
    "        print(\"Not present\") \n",
    "dict = {'1' : 'Cat', '2' :'Dog', '3' :'Rat'} \n",
    "  \n",
    "key =input(\"Enter key \")\n",
    "checkKey(dict, key)"
   ]
  },
  {
   "cell_type": "code",
   "execution_count": null,
   "metadata": {},
   "outputs": [],
   "source": []
  }
 ],
 "metadata": {
  "kernelspec": {
   "display_name": "Python 3",
   "language": "python",
   "name": "python3"
  },
  "language_info": {
   "codemirror_mode": {
    "name": "ipython",
    "version": 3
   },
   "file_extension": ".py",
   "mimetype": "text/x-python",
   "name": "python",
   "nbconvert_exporter": "python",
   "pygments_lexer": "ipython3",
   "version": "3.7.4"
  }
 },
 "nbformat": 4,
 "nbformat_minor": 2
}
